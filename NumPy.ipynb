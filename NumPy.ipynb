{
 "cells": [
  {
   "cell_type": "code",
   "execution_count": 1,
   "metadata": {},
   "outputs": [
    {
     "name": "stdout",
     "output_type": "stream",
     "text": [
      "[0.57539846 1.050865   1.40201646 2.00955667 0.83232281]\n"
     ]
    }
   ],
   "source": [
    "import numpy as np\n",
    "\n",
    "#these functions are valid only for numpy n-dimensional array\n",
    "#consider vector and matrices(arrays) same\n",
    "a=np.random.randn(5)\n",
    "print(a)\n",
    "#this creates 5 gaussian random variables stored in array a"
   ]
  },
  {
   "cell_type": "code",
   "execution_count": 2,
   "metadata": {},
   "outputs": [
    {
     "name": "stdout",
     "output_type": "stream",
     "text": [
      "(5,)\n",
      "(5,)\n"
     ]
    }
   ],
   "source": [
    "print(a.shape)\n",
    "#note that shape is not a method .it is an attribute but to use as a method use the below code\n",
    "print(np.shape(a))\n",
    "#it turns out this is neither a row vector nor a column vector\n",
    "# instead its a different data structure called rand 1 array which doesn't behave like a normal vector as shown below"
   ]
  },
  {
   "cell_type": "code",
   "execution_count": 3,
   "metadata": {},
   "outputs": [
    {
     "name": "stdout",
     "output_type": "stream",
     "text": [
      "[0.57539846 1.050865   1.40201646 2.00955667 0.83232281]\n"
     ]
    }
   ],
   "source": [
    "print(a.T)\n",
    "#transpose is exactly the same as a which is not expected for a matrix"
   ]
  },
  {
   "cell_type": "code",
   "execution_count": 4,
   "metadata": {},
   "outputs": [
    {
     "name": "stdout",
     "output_type": "stream",
     "text": [
      "8.132130070205223\n"
     ]
    }
   ],
   "source": [
    "print(np.dot(a,a.T))\n",
    "#np.dot() function takes 2 matrices as parameters and is equivalent to matrix multiplication\n",
    "# in case of 2-d arrays and inner product of the vectors in case of 1-d arrays\n",
    "#outer product is the other name of matrix multiplication and inner product is the component wise product\n",
    "#instead of obtaining matrix you get a number!!so it is highly recommended to be careful of rank 1 array"
   ]
  },
  {
   "cell_type": "code",
   "execution_count": 5,
   "metadata": {},
   "outputs": [
    {
     "name": "stdout",
     "output_type": "stream",
     "text": [
      "[[-1.77430494]\n",
      " [ 1.4342513 ]\n",
      " [ 0.61636806]\n",
      " [ 0.45701746]\n",
      " [ 0.41437777]]\n",
      "[[ 1.74260929]\n",
      " [ 0.61206534]\n",
      " [-0.94538296]\n",
      " [-0.54220438]\n",
      " [ 1.01332675]] (5, 1)\n"
     ]
    }
   ],
   "source": [
    "#when you encounter rank 1 array you can solve the probleam as follows\n",
    "#method 1\n",
    "a=np.random.randn(5,1)\n",
    "print(a)\n",
    "#method 2\n",
    "a=np.random.randn(5)\n",
    "a=a.reshape((5,1))\n",
    "print(a,a.shape)"
   ]
  },
  {
   "cell_type": "code",
   "execution_count": 6,
   "metadata": {},
   "outputs": [
    {
     "name": "stdout",
     "output_type": "stream",
     "text": [
      "[[ 3.03668714  1.06659075 -1.64743312 -0.94485039  1.76583262]\n",
      " [ 1.06659075  0.37462398 -0.57863614 -0.33186451  0.62022219]\n",
      " [-1.64743312 -0.57863614  0.89374893  0.51259078 -0.95798184]\n",
      " [-0.94485039 -0.33186451  0.51259078  0.29398559 -0.54943021]\n",
      " [ 1.76583262  0.62022219 -0.95798184 -0.54943021  1.02683111]]\n"
     ]
    }
   ],
   "source": [
    "print(np.dot(a,a.T))\n",
    "#now this will give outer product/matrix multiplication"
   ]
  },
  {
   "cell_type": "code",
   "execution_count": 29,
   "metadata": {},
   "outputs": [
    {
     "name": "stdout",
     "output_type": "stream",
     "text": [
      "[[ 8  9 10]\n",
      " [11 12 13]] (2, 3)\n",
      "[[ 8  9]\n",
      " [10 11]\n",
      " [12 13]]\n",
      "[1 2] (2,)\n"
     ]
    }
   ],
   "source": [
    "b = np.array([(8,9,10),(11,12,13)])\n",
    "print(b,b.shape)\n",
    "b=b.reshape((3,2))\n",
    "print(b)\n",
    "c=np.array([1,2])\n",
    "print(c,c.shape)\n",
    "#note b is not rank1 array but c is"
   ]
  },
  {
   "cell_type": "code",
   "execution_count": 23,
   "metadata": {},
   "outputs": [
    {
     "name": "stdout",
     "output_type": "stream",
     "text": [
      "1 [1, 2]\n"
     ]
    }
   ],
   "source": [
    "b=np.ndim([[1,2],3,4])\n",
    "c=np.ndim([[1,2],[2,3]])\n",
    "c=[1,2]\n",
    "print(b,c)\n",
    "#np.ndim() returns the no of dim.it can't be used like an attribute like shape which can be used as both method & attr."
   ]
  },
  {
   "cell_type": "code",
   "execution_count": 9,
   "metadata": {},
   "outputs": [
    {
     "name": "stdout",
     "output_type": "stream",
     "text": [
      "float64 5 8\n",
      "float64 8\n"
     ]
    }
   ],
   "source": [
    "print(a.dtype,a.size,a.itemsize)\n",
    "#a.dtype find the data type of the elements that are stored in an array\n",
    "#a.itemsize calculate the byte size of each element\n",
    "#a.size calculate total no of elements\n",
    "c=[1,2.2]\n",
    "print(a.dtype,a.itemsize)\n",
    "#it seems as if c has 1 int and 1 float but python considers both as float when one of them is float"
   ]
  },
  {
   "cell_type": "code",
   "execution_count": 10,
   "metadata": {},
   "outputs": [
    {
     "name": "stdout",
     "output_type": "stream",
     "text": [
      "3\n",
      "[3 5]\n",
      "[ 9 11]\n"
     ]
    }
   ],
   "source": [
    "#slicing\n",
    "a=np.array([(1,2,3,4),(3,4,5,6)])\n",
    "print(a[0,2])\n",
    "#array(1,2,3,4) is your index 0 and (3,4,5,6) is index 1 of the python numpy array. \n",
    "#Therefore, we have printed the second element from the zeroth index\n",
    "print(a[0:,2])\n",
    "#this gives us the 2nd element from the zeroth and first index of the array.\n",
    "#colon represents all the rows, including zero\n",
    "a=np.array([(8,9),(10,11),(12,13)])\n",
    "print(a[0:2,1])\n",
    "#if we have one more row and we don’t want to get its 2nd element printed just as the image above\n",
    "#NOTE- this is valid when array is 2d that is it has m rows and n columns unlike arrays like [1,[2,3]].\n",
    "#it is not a 2-d numpy array instead if a rank 1 array as if u print its shape it will print (2,)"
   ]
  },
  {
   "cell_type": "code",
   "execution_count": 11,
   "metadata": {},
   "outputs": [
    {
     "name": "stdout",
     "output_type": "stream",
     "text": [
      "[1.         1.22222222 1.44444444 1.66666667 1.88888889 2.11111111\n",
      " 2.33333333 2.55555556 2.77777778 3.        ]\n"
     ]
    }
   ],
   "source": [
    "a=np.linspace(1,3,10)\n",
    "print(a)\n",
    "#np.linspace() is a operation in python numpy which returns evenly spaced numbers over a specified interval"
   ]
  },
  {
   "cell_type": "code",
   "execution_count": 12,
   "metadata": {},
   "outputs": [
    {
     "name": "stdout",
     "output_type": "stream",
     "text": [
      "1\n",
      "3\n",
      "6\n"
     ]
    }
   ],
   "source": [
    "a= np.array([1,2,3])\n",
    "print(a.min())\n",
    "print(a.max())\n",
    "print(a.sum())\n",
    "#a.sum() prints all the elements of a multidimensional array\n",
    "#NOTE the word multidimensional.If you perform this operation on a list that is not a multi/uni dimensional \n",
    "#array like rank 1 array then you will not get desired results."
   ]
  },
  {
   "cell_type": "code",
   "execution_count": 13,
   "metadata": {},
   "outputs": [
    {
     "name": "stdout",
     "output_type": "stream",
     "text": [
      "[4 6 8]\n",
      "[ 6 12]\n"
     ]
    }
   ],
   "source": [
    "#in numpy rows are called as axis 1 and the columns are called as axis 0\n",
    "a= np.array([(1,2,3),(3,4,5)])\n",
    "print(a.sum(axis=0))\n",
    "print(a.sum(axis=1))\n",
    "#the sum of all the columns are added where 1+3=4, 2+4=6 and 3+5=8. Similarly, if you replace the axis by 1, \n",
    "#then it will print [6 12] where all the rows get added."
   ]
  },
  {
   "cell_type": "code",
   "execution_count": 14,
   "metadata": {},
   "outputs": [
    {
     "name": "stdout",
     "output_type": "stream",
     "text": [
      "[[1.         1.41421356 1.73205081]\n",
      " [1.73205081 2.         2.23606798]]\n",
      "1.2909944487358056\n"
     ]
    }
   ],
   "source": [
    "a=np.array([(1,2,3),(3,4,5)])\n",
    "print(np.sqrt(a))\n",
    "print(np.std(a))\n",
    "#np.sqrt() calculate square root of all the elements\n",
    "#np.std() calculate standard deviation i.e how much each element varies from the mean value of the python numpy array"
   ]
  },
  {
   "cell_type": "code",
   "execution_count": 15,
   "metadata": {},
   "outputs": [
    {
     "name": "stdout",
     "output_type": "stream",
     "text": [
      "[[0 0 0]\n",
      " [0 0 0]]\n",
      "[[ 1  4  9]\n",
      " [ 9 16 25]]\n",
      "[[1. 1. 1.]\n",
      " [1. 1. 1.]]\n"
     ]
    }
   ],
   "source": [
    "x= np.array([(1,2,3),(3,4,5)])\n",
    "y= np.array([(1,2,3),(3,4,5)])\n",
    "print(x-y)\n",
    "print(x*y)\n",
    "print(x/y)\n",
    "#x*y gives inner product of the vectors x,y"
   ]
  },
  {
   "cell_type": "code",
   "execution_count": 16,
   "metadata": {},
   "outputs": [
    {
     "name": "stdout",
     "output_type": "stream",
     "text": [
      "[[1 2 3]\n",
      " [3 4 5]\n",
      " [1 2 3]\n",
      " [3 4 5]]\n",
      "[[1 2 3 1 2 3]\n",
      " [3 4 5 3 4 5]]\n"
     ]
    }
   ],
   "source": [
    "#Vertical & Horizontal Stacking\n",
    "x= np.array([(1,2,3),(3,4,5)])\n",
    "y= np.array([(1,2,3),(3,4,5)])\n",
    "print(np.vstack((x,y)))\n",
    "print(np.hstack((x,y)))\n",
    "#to concatenate two arrays and not just add them, you can perform it using two ways -\n",
    "#vertical stacking and horizontal stacking"
   ]
  },
  {
   "cell_type": "code",
   "execution_count": 17,
   "metadata": {},
   "outputs": [
    {
     "name": "stdout",
     "output_type": "stream",
     "text": [
      "[1 2 3 3 4 5] (6,)\n"
     ]
    }
   ],
   "source": [
    "x= np.array([(1,2,3),(3,4,5)])\n",
    "print(x.ravel(),x.ravel().shape)\n",
    "#x.ravel() is used to convert one numpy array into a single column i.e ravel.\n",
    "#it returns a rank 1 array .Be careful\n",
    "#this function works fine for rank 1 array as well"
   ]
  },
  {
   "cell_type": "code",
   "execution_count": 25,
   "metadata": {},
   "outputs": [
    {
     "name": "stdout",
     "output_type": "stream",
     "text": [
      "[ 4  7 10 13 16 19]\n",
      "(6,)\n",
      "[[ 4  7 10 13 16 19]] (1, 6)\n"
     ]
    }
   ],
   "source": [
    "d=np.arange(4, 20, 3)\n",
    "print(d)\n",
    "#np.arange([start,] stop[, step,][, dtype]) : Returns an array with evenly spaced elements as per the interval.\n",
    "#start:start of interval range. By default start = 0\n",
    "#stop:end of interval range(NOTE THAT STOP VALUE IS NOT INCLUDED IN THE ARRAY BUT START VALUE IS)\n",
    "#step:step size of interval. By default step size = 1,  \n",
    "#dtype : type of output array\n",
    "\n",
    "#similar to linespace but the only difference is that in linespace we provide no of elements that the array should \n",
    "#have and both start and stop value is included unlike inarange in which resulted array doesn't have stop value\n",
    "print(d.shape)\n",
    "#np.arange() returns a rank 1 array\n",
    "d=d.reshape((1,6))\n",
    "print(d,d.shape)"
   ]
  },
  {
   "cell_type": "code",
   "execution_count": 19,
   "metadata": {},
   "outputs": [],
   "source": [
    "#special functions\n",
    "x= np.arange(0,3*np.pi,0.1)\n",
    "#np.pi is the value of pi constant\n",
    "y=np.sin(x)\n",
    "z=np.tan(x)"
   ]
  },
  {
   "cell_type": "code",
   "execution_count": 20,
   "metadata": {},
   "outputs": [
    {
     "name": "stdout",
     "output_type": "stream",
     "text": [
      "[ 2.71828183  7.3890561  20.08553692]\n",
      "[0.         0.69314718 1.09861229]\n",
      "[0.         0.30103    0.47712125]\n"
     ]
    }
   ],
   "source": [
    "a= np.array([1,2,3])\n",
    "print(np.exp(a))     #exponential function\n",
    "print(np.log(a))     #natural log\n",
    "print(np.log10(a))   #log base 10"
   ]
  },
  {
   "cell_type": "code",
   "execution_count": 38,
   "metadata": {},
   "outputs": [
    {
     "name": "stdout",
     "output_type": "stream",
     "text": [
      "[[ 1.74260929  0.61206534 -0.94538296 -0.54220438  1.01332675]] (1, 5)\n",
      "[[1 1 1 1 1]] (1, 5)\n",
      "[[0 0 0 0 0]] (1, 5)\n"
     ]
    }
   ],
   "source": [
    "z=np.empty((1,5),dtype=float)\n",
    "#np.empty() returns an array of given shape and size of random numbers\n",
    "print(z,z.shape)\n",
    "z=np.ones((1,5),dtype=int)\n",
    "print(z,z.shape)\n",
    "z=np.zeros((1,5),dtype=int)\n",
    "print(z,z.shape)"
   ]
  },
  {
   "cell_type": "code",
   "execution_count": 37,
   "metadata": {},
   "outputs": [
    {
     "name": "stdout",
     "output_type": "stream",
     "text": [
      "1\n",
      "2\n",
      "3\n",
      "1\n",
      "2\n",
      "3\n",
      "4\n"
     ]
    }
   ],
   "source": [
    "#iterating over array\n",
    "z=np.array([1,2,3])\n",
    "for i in np.nditer(z):\n",
    "    print(i)\n",
    "z=np.array([[1,2],[3,4]])\n",
    "for i in np.nditer(z):\n",
    "    print(i)"
   ]
  }
 ],
 "metadata": {
  "kernelspec": {
   "display_name": "Python 3",
   "language": "python",
   "name": "python3"
  },
  "language_info": {
   "codemirror_mode": {
    "name": "ipython",
    "version": 3
   },
   "file_extension": ".py",
   "mimetype": "text/x-python",
   "name": "python",
   "nbconvert_exporter": "python",
   "pygments_lexer": "ipython3",
   "version": "3.7.1"
  }
 },
 "nbformat": 4,
 "nbformat_minor": 2
}
